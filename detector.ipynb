{
  "nbformat": 4,
  "nbformat_minor": 0,
  "metadata": {
    "colab": {
      "provenance": []
    },
    "kernelspec": {
      "name": "python3",
      "display_name": "Python 3"
    },
    "language_info": {
      "name": "python"
    }
  },
  "cells": [
    {
      "cell_type": "code",
      "execution_count": null,
      "metadata": {
        "id": "bYCXq8b9duV6"
      },
      "outputs": [],
      "source": [
        "import cv2\n",
        "import numpy as np\n",
        "\n",
        "\n",
        "net = cv2.dnn.readNetFromTensorflow(\"MobileNetV2.pb\", \"MobileNetV2.pbtxt\")\n",
        "\n",
        "input_width = 224\n",
        "input_height = 224\n",
        "\n",
        "image = cv2.imread(\"your_image.jpg\")\n",
        "blob = cv2.dnn.blobFromImage(image, 1.0, (input_width, input_height), (127.5, 127.5, 127.5), swapRB=True, crop=False)\n",
        "\n",
        "net.setInput(blob)\n",
        "\n",
        "predictions = net.forward()\n",
        "\n",
        "with open(\"imagenet_classes.txt\") as f:\n",
        "    classes = f.read().strip().split(\"\\n\")\n",
        "\n",
        "class_idx = np.argmax(predictions)\n",
        "class_label = classes[class_idx]\n",
        "\n",
        "print(\"Class:\", class_label)\n"
      ]
    },
    {
      "cell_type": "code",
      "source": [
        "import cv2\n",
        "import numpy as np\n",
        "\n",
        "net = cv2.dnn.readNet(\"yolov3.weights\", \"yolov3.cfg\")\n",
        "classes = []\n",
        "\n",
        "with open(\"coco.names\", \"r\") as f:\n",
        "    classes = [line.strip() for line in f.readlines()]\n",
        "\n",
        "layer_names = net.getLayerNames()\n",
        "output_layers = [layer_names[i[0] - 1] for i in net.getUnconnectedOutLayers()]\n",
        "\n",
        "image = cv2.imread(\"image.jpg\")\n",
        "height, width, channels = image.shape\n",
        "\n",
        "blob = cv2.dnn.blobFromImage(image, 0.00392, (416, 416), (0, 0, 0), True, crop=False)\n",
        "net.setInput(blob)\n",
        "outs = net.forward(output_layers)\n",
        "\n",
        "class_ids = []\n",
        "confidences = []\n",
        "boxes = []\n",
        "\n",
        "for out in outs:\n",
        "    for detection in out:\n",
        "        scores = detection[5:]\n",
        "        class_id = np.argmax(scores)\n",
        "        confidence = scores[class_id]\n",
        "\n",
        "        if confidence > 0.5:\n",
        "            center_x = int(detection[0] * width)\n",
        "            center_y = int(detection[1] * height)\n",
        "            w = int(detection[2] * width)\n",
        "            h = int(detection[3] * height)\n",
        "\n",
        "            x = int(center_x - w / 2)\n",
        "            y = int(center_y - h / 2)\n",
        "\n",
        "            boxes.append([x, y, w, h])\n",
        "            confidences.append(float(confidence))\n",
        "            class_ids.append(class_id)\n",
        "\n",
        "indexes = cv2.dnn.NMSBoxes(boxes, confidences, 0.5, 0.4)\n",
        "\n",
        "font = cv2.FONT_HERSHEY_PLAIN\n",
        "colors = np.random.uniform(0, 255, size=(len(classes), 3))\n",
        "\n",
        "if len(indexes) > 0:\n",
        "    for i in indexes.flatten():\n",
        "        x, y, w, h = boxes[i]\n",
        "        label = str(classes[class_ids[i]])\n",
        "        confidence = str(round(confidences[i], 2))\n",
        "        color = colors[i]\n",
        "        cv2.rectangle(image, (x, y), (x + w, y + h), color, 2)\n",
        "        cv2.putText(image, label + \" \" + confidence, (x, y + 30), font, 3, color, 3)\n",
        "\n",
        "cv2.imshow(\"Image\", image)\n",
        "cv2.waitKey(0)\n",
        "cv2.destroyAllWindows()\n"
      ],
      "metadata": {
        "id": "uK2G-jqceXSe"
      },
      "execution_count": null,
      "outputs": []
    },
    {
      "cell_type": "code",
      "source": [
        "import cv2\n",
        "import numpy as np\n",
        "\n",
        "net = cv2.dnn.readNetFromTensorflow(\"MobileNetV2.pb\", \"MobileNetV2.pbtxt\")\n",
        "\n",
        "\n",
        "input_width = 224\n",
        "input_height = 224\n",
        "\n",
        "image = cv2.imread(\"your_image.jpg\")\n",
        "blob = cv2.dnn.blobFromImage(image, 1.0, (input_width, input_height), (127.5, 127.5, 127.5), swapRB=True, crop=False)\n",
        "\n",
        "net.setInput(blob)\n",
        "\n",
        "predictions = net.forward()\n",
        "\n",
        "with open(\"imagenet_classes.txt\") as f:\n",
        "    classes = f.read().strip().split(\"\\n\")\n",
        "\n",
        "class_idx = np.argmax(predictions)\n",
        "class_label = classes[class_idx]\n",
        "\n",
        "print(\"Class:\", class_label)\n"
      ],
      "metadata": {
        "id": "2WvAZV3heoIy"
      },
      "execution_count": null,
      "outputs": []
    }
  ]
}